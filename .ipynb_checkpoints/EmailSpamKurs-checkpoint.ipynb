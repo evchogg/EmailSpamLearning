{
 "cells": [
  {
   "cell_type": "code",
   "execution_count": 15,
   "id": "7895d17d-c9c7-427d-aaf8-cc3a0420acaf",
   "metadata": {},
   "outputs": [],
   "source": [
    "import pandas as pd \n",
    "import pandas as pd\n",
    "from sklearn.model_selection import train_test_split\n",
    "from sklearn.preprocessing import StandardScaler\n",
    "\n",
    "class Data:\n",
    "    \"\"\" A util class to store the training and test datasets. \"\"\"\n",
    "    \n",
    "    def __init__(self, tr_explanatory: pd.DataFrame, tr_explained: pd.DataFrame, \n",
    "                test_explanatory: pd.DataFrame, test_explained: pd.DataFrame):\n",
    "        \n",
    "        self.tr_explanatory = tr_explanatory\n",
    "        self.tr_explained = tr_explained\n",
    "        self.test_explanatory = test_explanatory\n",
    "        self.test_explained = test_explained\n",
    "    \n",
    "    def consistency_check(self):\n",
    "        print(\"Shape EXPLANATORY (Training set): {}\".format(self.tr_explanatory.shape))\n",
    "        print(\"Shape EXPLAINED (Training set): {}\".format(self.tr_explained.shape))\n",
    "        print(\"Shape EXPLANATORY (Test set): {}\".format(self.test_explanatory.shape))\n",
    "        print(\"Shape EXPLAINED (Test set): {}\".format(self.test_explained.shape))\n",
    "        \n",
    "        if self.tr_explanatory.shape[0] == self.tr_explained.shape[0] and \\\n",
    "            self.test_explanatory.shape[0] == self.test_explained.shape[0] and \\\n",
    "            self.tr_explanatory.shape[1] == self.test_explanatory.shape[1] :\n",
    "            print(\"Consistent dimensions.\")\n",
    "            return True\n",
    "        else:\n",
    "            print(\"ERROR: Inconsistent dimensions!\")\n",
    "            print(self.tr_explanatory.shape[0] == self.tr_explained.shape[0])\n",
    "            print(self.test_explanatory.shape[0] == self.test_explained.shape[0])\n",
    "            print(self.tr_explanatory.shape[1] == self.test_explanatory.shape[1])\n",
    "            return False "
   ]
  },
  {
   "cell_type": "code",
   "execution_count": 16,
   "id": "81dd18c6-79d0-4f65-a407-0d91d62ffb06",
   "metadata": {},
   "outputs": [],
   "source": [
    "#Load CSV file\n",
    "data = pd.read_csv('shuffle_email_spam_classification.csv')"
   ]
  },
  {
   "cell_type": "code",
   "execution_count": 17,
   "id": "8ae6e3bd-5f0b-4688-bbc0-f8aa8b4c858d",
   "metadata": {},
   "outputs": [
    {
     "name": "stdout",
     "output_type": "stream",
     "text": [
      "<class 'pandas.core.frame.DataFrame'>\n",
      "RangeIndex: 5172 entries, 0 to 5171\n",
      "Columns: 3002 entries, Email No. to Prediction\n",
      "dtypes: int64(3001), object(1)\n",
      "memory usage: 118.5+ MB\n"
     ]
    },
    {
     "data": {
      "text/plain": [
       "(  Email No.  the  to  ect  and  for  of    a  you  hou  ...  connevey  jay  \\\n",
       " 0   Email 1    0   0    1    0    0   0    2    0    0  ...         0    0   \n",
       " 1   Email 2    8  13   24    6    6   2  102    1   27  ...         0    0   \n",
       " 2   Email 3    0   0    1    0    0   0    8    0    0  ...         0    0   \n",
       " 3   Email 4    0   5   22    0    5   1   51    2   10  ...         0    0   \n",
       " 4   Email 5    7   6   17    1    5   2   57    0    9  ...         0    0   \n",
       " \n",
       "    valued  lay  infrastructure  military  allowing  ff  dry  Prediction  \n",
       " 0       0    0               0         0         0   0    0           0  \n",
       " 1       0    0               0         0         0   1    0           0  \n",
       " 2       0    0               0         0         0   0    0           0  \n",
       " 3       0    0               0         0         0   0    0           0  \n",
       " 4       0    0               0         0         0   1    0           0  \n",
       " \n",
       " [5 rows x 3002 columns],\n",
       " None)"
      ]
     },
     "execution_count": 17,
     "metadata": {},
     "output_type": "execute_result"
    }
   ],
   "source": [
    "data.head(), data.info()"
   ]
  },
  {
   "cell_type": "code",
   "execution_count": 18,
   "id": "664ce442-a61b-4e0f-b46e-a5260afe1e1a",
   "metadata": {},
   "outputs": [
    {
     "data": {
      "text/plain": [
       "((4137, 3000), (1035, 3000), (4137,), (1035,))"
      ]
     },
     "execution_count": 18,
     "metadata": {},
     "output_type": "execute_result"
    }
   ],
   "source": [
    "#Preprocessing\n",
    "# Step 1: Remove the \"Email No.\" column\n",
    "data_cleaned = data.drop(columns=[\"Email No.\"])\n",
    "n = data_cleaned.shape[0]\n",
    "thr = math.floor(0.75 * n)\n",
    "\n",
    "X = yinyang.iloc[0:thr:, :-1]\n",
    "\n",
    "\n",
    "# Step 2: Separate features (X) and target (y)\n",
    "X = data_cleaned.drop(columns=[\"Prediction\"])\n",
    "y = data_cleaned[\"Prediction\"]\n",
    "\n",
    "# Step 3: Split data into training and test sets (80-20 split)\n",
    "X_train, X_test, y_train, y_test = train_test_split(X, y, test_size=0.2, random_state=42, stratify=y)\n",
    "\n",
    "# Step 4: Scale the features\n",
    "scaler = StandardScaler()\n",
    "X_train_scaled = scaler.fit_transform(X_train)\n",
    "X_test_scaled = scaler.transform(X_test)\n",
    "\n",
    "# Check the shapes of the processed data\n",
    "X_train_scaled.shape, X_test_scaled.shape, y_train.shape, y_test.shape"
   ]
  },
  {
   "cell_type": "code",
   "execution_count": 22,
   "id": "6551e6ff-a6f9-4050-9b83-113c09bb821d",
   "metadata": {},
   "outputs": [
    {
     "data": {
      "text/plain": [
       "5172"
      ]
     },
     "execution_count": 22,
     "metadata": {},
     "output_type": "execute_result"
    }
   ],
   "source": [
    "X.shape[0]"
   ]
  },
  {
   "cell_type": "code",
   "execution_count": null,
   "id": "9676e7a8-bade-49d6-b2c0-c0024623480f",
   "metadata": {},
   "outputs": [],
   "source": []
  }
 ],
 "metadata": {
  "kernelspec": {
   "display_name": "Python 3 (ipykernel)",
   "language": "python",
   "name": "python3"
  },
  "language_info": {
   "codemirror_mode": {
    "name": "ipython",
    "version": 3
   },
   "file_extension": ".py",
   "mimetype": "text/x-python",
   "name": "python",
   "nbconvert_exporter": "python",
   "pygments_lexer": "ipython3",
   "version": "3.12.4"
  }
 },
 "nbformat": 4,
 "nbformat_minor": 5
}
